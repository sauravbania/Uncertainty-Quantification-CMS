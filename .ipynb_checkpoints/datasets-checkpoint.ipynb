{
 "cells": [
  {
   "cell_type": "markdown",
   "id": "8bdca5d0-c2a5-43e2-897c-8e8f0003d057",
   "metadata": {},
   "source": [
    "# Dataset\n",
    "I am using the \"Quark and Gluon Jets\" dataset from EnergyFlow [[https://energyflow.network/docs/datasets/#quark-and-gluon-jets]] for the initial part of my project[^1]. I will use this data at two different stages of my project:\n",
    "\n",
    "**Stage 1 - Hypothesis Testing**\n",
    "\n",
    "In this phase, I will:\n",
    "  - Peform **statistical hypothesis tests** ($\\chi^{2}$, Likelihood Ratio tests) to verify **quark vs. gluon distributions**.\n",
    "  - Use features like **multiplicity & jet spread** to check how different quark and gluon jets are.\n",
    "  - Apply **classification techniques** to separate quark vs. gluon jets.\n",
    "The goal at this stage is to develop a **baseline statistical understanding** of how quarks vs. gluon jets differ.\n",
    "\n",
    "**Stage 2 - Bayesian Uncertainty Quantififation**\n",
    "\n",
    "After completing hypothesis testing, I will:\n",
    "  - Train a **Neural Network (NN)** to classify quark vs. gluon jets.\n",
    "  - Modify the NN into a **Bayesian Neural Network (BNN)** to ***quantify*** uncertainty.\n",
    "  - Test if **Uncertainty Quantification (UQ)** helps improve **classification accuracy** (e.g., are some jets “hard to classify” due to overlapping properties?).\n",
    "\n",
    "\n",
    "The dataset \"Quark and Gluon Jets\" focuses only on jet types (*quarks vs. gluon*), not full event-classification. It does not include a wide range of event types (like Higgs decays). So, for UQ, I will switch to \"CMS Open Data and the MOD HDF5 Format\", again from EnergyFlow [[https://energyflow.network/docs/datasets/#cms-open-data-and-the-mod-hdf5-format]]. \n",
    "\n",
    "Why use different dataset later?\n",
    "- It represents real detector data, where uncertainties arise naturally.\n",
    "- It allows us to test if ML models trained on simulated jets generalize to real physics data.\n",
    "- This is crucial for practical applications in experimental physics.\n",
    "\n",
    "Let's begin by understanding and visualising the dataset.\n",
    "\n",
    "[^1]: The dataset is a \".npz\" file, which is a **compressed NumPy archive**. It stores multiple NumPy arrays inside one file. We have to manually extract arrays before using them (unlike \".csv\" - which stores tabular data and can be loaded into Pandas with df.head())."
   ]
  },
  {
   "cell_type": "code",
   "execution_count": 1,
   "id": "549ebc40-1ff8-4dab-b6dc-45a7dd7feea0",
   "metadata": {},
   "outputs": [
    {
     "name": "stdout",
     "output_type": "stream",
     "text": [
      "Dataset Keys: ['X', 'y']\n",
      "X: shape (100000, 134, 4)\n",
      "y: shape (100000,)\n"
     ]
    }
   ],
   "source": [
    "import numpy as np\n",
    "\n",
    "# Define file path (using the first file for exploration)\n",
    "file_path = \"/Users/sauravbania/My Projects/Uncertainty-Quantification-CMS/datasets/QG_jets_withbc_0.npz\"\n",
    "\n",
    "# Loading the dataset\n",
    "data1 = np.load(file_path)\n",
    "\n",
    "# Checking what arrays are stored in this file\n",
    "print(\"Dataset Keys:\", data1.files)\n",
    "\n",
    "# Inspecting the shape of each array\n",
    "for key in data1.files:\n",
    "    print(f\"{key}: shape {data1[key].shape}\")\n",
    "\n",
    "#Extracting first 5 jets from the X array\n",
    "X_val = data1[\"X\"]\n",
    "y_val = data1[\"y\"]\n",
    "\n",
    "#for i in range(2):\n",
    "    #print(f\"Jet {i}:\")\n",
    "    #print(X_val[i])  # Print the particle features for each jet\n",
    "    #print(y_val[i])\n",
    "    #print(f\"Label: {'Quark' if y_val[i] == 1 else 'Gluon'}\\n\")  # Convert label to text"
   ]
  },
  {
   "cell_type": "markdown",
   "id": "5a9285b8-1026-4432-a9ca-af31a4a0fdf4",
   "metadata": {},
   "source": [
    "This is telling us that the dataset has two arrays X:(100000,134,4) and y(100000). The X array says that there are **100000 Quark and Gluon Jets** stored in this file. Each jet consists of a maximum of **134 particles** (multiplicity varies from jet to jet) and has **4 features**. The y array tells us the label for Quark or Gluon, y == 1 for Quark and y == 0 for Gluon, as you can clearly see in the output."
   ]
  },
  {
   "cell_type": "code",
   "execution_count": null,
   "id": "4bb6fd1c-9e65-41d7-bd85-d4790343bc40",
   "metadata": {},
   "outputs": [
    {
     "name": "stdout",
     "output_type": "stream",
     "text": [
      "100000\n",
      "134\n",
      "4\n",
      "First value: 0.986502732089\n"
     ]
    }
   ],
   "source": [
    "print(len(X_val))\n",
    "print(len(X_val[0]))\n",
    "print(len(X_val[0,0]))\n",
    "#for i in range(2):\n",
    "    #print(X_val[0:1,0:1])\n",
    "    #if X_val[i] != 0.0:\n",
    "        #counter += 1\n",
    "#return counter   \n",
    "\n",
    "print(f\"First value: {X_val[0,0,0]}\") # X_val[0,0,0] = [first jet, first particle in jet, first feature of that particle]\n",
    "\n",
    "for i in range(len(X_val)):\n",
    "    counter = 0\n",
    "    if X_val.any() != 0:\n",
    "        counter += 1\n",
    "print(counter)\n",
    "\n"
   ]
  },
  {
   "cell_type": "code",
   "execution_count": null,
   "id": "681968e8-0452-4d7a-a835-a1e6d8675c25",
   "metadata": {},
   "outputs": [],
   "source": []
  },
  {
   "cell_type": "code",
   "execution_count": null,
   "id": "00a70a14-c056-46ab-9a2a-3252369f28e9",
   "metadata": {},
   "outputs": [],
   "source": []
  }
 ],
 "metadata": {
  "kernelspec": {
   "display_name": "project1",
   "language": "python",
   "name": "project1"
  },
  "language_info": {
   "codemirror_mode": {
    "name": "ipython",
    "version": 3
   },
   "file_extension": ".py",
   "mimetype": "text/x-python",
   "name": "python",
   "nbconvert_exporter": "python",
   "pygments_lexer": "ipython3",
   "version": "3.9.21"
  }
 },
 "nbformat": 4,
 "nbformat_minor": 5
}
